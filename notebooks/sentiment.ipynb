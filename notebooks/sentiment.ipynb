{
 "cells": [
  {
   "cell_type": "markdown",
   "id": "0",
   "metadata": {
    "id": "18890c23"
   },
   "source": [
    "# Youtube Comment Sentiment Analysis"
   ]
  },
  {
   "cell_type": "markdown",
   "id": "1",
   "metadata": {
    "id": "2a310890"
   },
   "source": [
    "## Import Libraries"
   ]
  },
  {
   "cell_type": "code",
   "execution_count": null,
   "id": "2",
   "metadata": {
    "colab": {
     "base_uri": "https://localhost:8080/"
    },
    "id": "d30161cd",
    "outputId": "560749d4-77e9-44db-bab0-ac1462b1bcab"
   },
   "outputs": [],
   "source": [
    "from transformers import AutoTokenizer, AutoModelForSequenceClassification\n",
    "import torch\n",
    "import re\n",
    "import pandas as pd\n",
    "import numpy as np\n",
    "%env CUDA_LAUNCH_BLOCKING=1"
   ]
  },
  {
   "cell_type": "markdown",
   "id": "3",
   "metadata": {
    "id": "594e88a8"
   },
   "source": [
    "## Fine Tune BERT\n",
    "\n",
    "For best performance on youtube comments, we use a twitter sentiment model since the structure of both are quite similar"
   ]
  },
  {
   "cell_type": "code",
   "execution_count": null,
   "id": "4",
   "metadata": {
    "colab": {
     "base_uri": "https://localhost:8080/",
     "height": 281,
     "referenced_widgets": [
      "8f447f7c95ec447fa8d2a69c6d79e490",
      "507aae16748b4bd2901a4c735b5f7ba2",
      "13f1d7ced66f4290b43a5076e3f0d621",
      "7afd4eb19ffa45a180edd51661121a2e",
      "ea8c96628c024801ac0aa5a77d2919f3",
      "e1eaa0e3219e43258ce43cb0c3d3f4f6",
      "ee9d8c15964c46ee9283ea34396408dd",
      "d9707bcca7024287ac27d982ae6547af",
      "7b4981332899475db4d9c44f1a757b57",
      "790eda3c3cda482a8848156c32e7f740",
      "4f0cd3c0cbdd443c97f3e29772a82901",
      "27b40a2b62864aedb102859eb6bf1008",
      "ffec5b93f7154372a788405a2e37858c",
      "fb56ffb184dd469db658128889997489",
      "0ccee9070da6444095661af0262e484c",
      "47223fea043441b4bdd1a5118cc4e1df",
      "2a02ba592b2b4f1ca85357a07e9e01e4",
      "35b667f3202b48d0b34998b30a73cd91",
      "639f734a59b9473cb1e407dc0025177d",
      "2eabc276c11e41f4a69268429d1b9c20",
      "9050d3cb13444f4e807dc2426cfd1d03",
      "c65763e14f0246dbbee024e30d565351",
      "81f6a0fdb18744f98d0a9588a39ab230",
      "51055c7c1fb044919b068c2d20f2139b",
      "732a7d3e83344103a976099abea60972",
      "d3c749de78a14991b65d719ae89f6dd2",
      "6a5b576e018442edaea928145630f0e7",
      "af335fbafa144904ba0f8e05fba457c2",
      "01288f7c56d145819455ec0eea573b08",
      "69a6ebbd7b884d5ab093aaf4832762bd",
      "922d51b1d321495cb7df434576fd1f93",
      "b956b912a1564760b3d940e35f9a3fb7",
      "58b933e13d1f484ea1d3781782a2fa9a",
      "67f12804e6714344a5e66fddd53cbbac",
      "3511fc1d96044b37ba57578f4f38bd91",
      "2e45cd6554354622a223da510fa0abd6",
      "204d5d34ae81424abdef3ddbc637be07",
      "3f25990b2423433ca42aae9713e25f9a",
      "fa6ac34d75c84ea59e67fc16dd9fc05f",
      "e5e1f0bcdfa5462dae42138e8bd12794",
      "f21b699ca99840aa9eac5c572f87bdec",
      "5d786eef37d2460c9bc71bf9aabc2f2d",
      "a71c1bf495884c3eae07f248e30dd350",
      "0b9aa821b40d40ab9f6266b84af67d9e",
      "676752b7af2942cf88b8b9370d66bf2c",
      "20dbe2b4c65a421ebd38828dda3ecbfe",
      "bf0facdc2dcd4cc3bcea8afaf0a9a753",
      "948dbf3d292f46a6827e15b5ba00b026",
      "da514f93e4164772b44793e8bb71127d",
      "1888c1e53a0842b794fcea33f0c330e9",
      "b9e39210d8d341a0a6bee81372c8a87d",
      "ecf8ca313d614752b4df37394c4655ed",
      "f5dd70c7fde54645ba60c81e6af741d9",
      "d7cf5883e7c0443cb042121cd0834edc",
      "cbf1efdca02c4ec7a5f664694d9292ae"
     ]
    },
    "id": "cb94d7fe",
    "outputId": "895e9c48-70b8-4813-ccfb-8a54137ab74a"
   },
   "outputs": [],
   "source": [
    "tokenizer = AutoTokenizer.from_pretrained('cardiffnlp/twitter-roberta-base-sentiment')\n",
    "\n",
    "model = AutoModelForSequenceClassification.from_pretrained('cardiffnlp/twitter-roberta-base-sentiment')"
   ]
  },
  {
   "cell_type": "code",
   "execution_count": null,
   "id": "5",
   "metadata": {
    "colab": {
     "base_uri": "https://localhost:8080/",
     "height": 49,
     "referenced_widgets": [
      "0b1487b3ede34d329b8b02ef4bdcac57",
      "57022d4a08a74740a1b4133c71d6b500",
      "c58c3c6d72d34c92826e8d15556a3db6",
      "91ea1a25447c42fd8fba622f59432772",
      "85ac63a0135e4a14a41759b59a0c8cee",
      "fd834329b82242d48e718834cecbcdae",
      "1a06e20ab9d3408fa775dc15c710d58a",
      "b84e8d0f8e1d488282fff9e6a0450a59",
      "c646db038d5a41fea7dc1cb158d18f9c",
      "668368a7cd024a5d89fb019026aa58a3",
      "7b1c8f99a4684dc6a0143869f1c201d4"
     ]
    },
    "id": "cd1f9829",
    "outputId": "4d1ce8ae-8c30-434a-dba6-4677ef9ed136"
   },
   "outputs": [],
   "source": [
    "from sklearn.model_selection import train_test_split\n",
    "from sklearn.metrics import accuracy_score, recall_score, precision_score, f1_score\n",
    "from transformers import TrainingArguments, Trainer"
   ]
  },
  {
   "cell_type": "code",
   "execution_count": null,
   "id": "6",
   "metadata": {
    "colab": {
     "base_uri": "https://localhost:8080/"
    },
    "id": "5126cd24",
    "outputId": "1c5f2452-a9af-4b92-9515-e6f914e01663"
   },
   "outputs": [],
   "source": [
    "model"
   ]
  },
  {
   "cell_type": "code",
   "execution_count": null,
   "id": "7",
   "metadata": {
    "id": "36nNl49XO2Gh"
   },
   "outputs": [],
   "source": [
    "model = model.to(\"cuda\")"
   ]
  },
  {
   "cell_type": "code",
   "execution_count": null,
   "id": "8",
   "metadata": {
    "colab": {
     "base_uri": "https://localhost:8080/"
    },
    "id": "ecb345ea",
    "outputId": "f2c155ed-f05c-400d-8087-4bdb053b57a4"
   },
   "outputs": [],
   "source": [
    "sample = [\"I love this video\", \"This tutorial sucks!\"]\n",
    "tokenizer(sample, padding=True, truncation=True, max_length=512)"
   ]
  },
  {
   "cell_type": "code",
   "execution_count": null,
   "id": "9",
   "metadata": {
    "id": "8aa9fa7a"
   },
   "outputs": [],
   "source": [
    "dataset = pd.read_csv(\"https://raw.githubusercontent.com/ArrafMelon/Youtube-Video-Sentiment/main/data/processed_data/CleanYoutubeCommentsDataSet.csv\")\n",
    "X = list(dataset[\"Comment\"])\n",
    "y = list(dataset[\"Sentiment\"])\n",
    "X_train,X_val,y_train,y_val = train_test_split(X, y, test_size=0.2, stratify=y)\n",
    "X_train_tokenized = tokenizer(X_train, padding=True, truncation=True, max_length=512)\n",
    "X_val_tokenized = tokenizer(X_val, padding=True, truncation=True, max_length=512)"
   ]
  },
  {
   "cell_type": "code",
   "execution_count": null,
   "id": "10",
   "metadata": {
    "colab": {
     "base_uri": "https://localhost:8080/",
     "height": 210
    },
    "id": "jhFqWkCUU-3d",
    "outputId": "312461a9-151d-43dc-9753-2e0308fd438e"
   },
   "outputs": [],
   "source": [
    "dataset[\"Sentiment\"].value_counts()"
   ]
  },
  {
   "cell_type": "code",
   "execution_count": null,
   "id": "11",
   "metadata": {
    "colab": {
     "base_uri": "https://localhost:8080/"
    },
    "id": "64b46e6f",
    "outputId": "b54c8f13-11ce-43be-9099-f273c366b9c6"
   },
   "outputs": [],
   "source": [
    "len(X_train),len(X_val)"
   ]
  },
  {
   "cell_type": "markdown",
   "id": "12",
   "metadata": {
    "id": "e0dfb49f"
   },
   "source": [
    "### Create torch dataset"
   ]
  },
  {
   "cell_type": "code",
   "execution_count": null,
   "id": "13",
   "metadata": {
    "id": "e968caa3"
   },
   "outputs": [],
   "source": [
    "class Dataset(torch.utils.data.Dataset):\n",
    "    def __init__(self, encodings, labels=None):\n",
    "        self.encodings = encodings\n",
    "        self.labels = labels\n",
    "\n",
    "    def __getitem__(self, index):\n",
    "        item = {key: torch.tensor(val[index]) for key, val in self.encodings.items()}\n",
    "        if self.labels is not None:\n",
    "            item[\"labels\"] = torch.tensor(self.labels[index])\n",
    "        return item\n",
    "\n",
    "    def __len__(self):\n",
    "        return len(self.encodings[\"input_ids\"])"
   ]
  },
  {
   "cell_type": "code",
   "execution_count": null,
   "id": "14",
   "metadata": {
    "id": "aa7c2e13"
   },
   "outputs": [],
   "source": [
    "train_dataset = Dataset(X_train_tokenized, y_train)\n",
    "val_dataset = Dataset(X_val_tokenized, y_val)"
   ]
  },
  {
   "cell_type": "code",
   "execution_count": null,
   "id": "15",
   "metadata": {
    "id": "1780f40b"
   },
   "outputs": [],
   "source": [
    "def metrics(p):\n",
    "    print(type(p))\n",
    "    pred, labels = p\n",
    "    pred = np.argmax(pred, axis=1)\n",
    "\n",
    "    accuracy = accuracy_score(y_true=labels, y_pred=pred)\n",
    "    recall = recall_score(y_true=labels, y_pred=pred, average='macro')\n",
    "    precision = precision_score(y_true=labels, y_pred=pred, average='macro')\n",
    "    f1 = f1_score(y_true=labels, y_pred=pred, average='macro')\n",
    "\n",
    "    return {\"accuracy\":accuracy, \"recall\":recall, \"precision\":precision, \"f1\":f1}"
   ]
  },
  {
   "cell_type": "markdown",
   "id": "16",
   "metadata": {
    "id": "b38a8219"
   },
   "source": [
    "### Train and Test Model"
   ]
  },
  {
   "cell_type": "code",
   "execution_count": null,
   "id": "17",
   "metadata": {
    "id": "d0c3c3de"
   },
   "outputs": [],
   "source": [
    "args = TrainingArguments(\n",
    "    output_dir=\"output\",\n",
    "    num_train_epochs=3,\n",
    "    per_device_train_batch_size=16,\n",
    "    report_to=\"none\"\n",
    ")\n",
    "\n",
    "trainer = Trainer(\n",
    "    model=model,\n",
    "    args=args,\n",
    "    train_dataset=train_dataset,\n",
    "    eval_dataset=val_dataset,\n",
    "    compute_metrics=metrics\n",
    ")"
   ]
  },
  {
   "cell_type": "code",
   "execution_count": null,
   "id": "18",
   "metadata": {
    "colab": {
     "base_uri": "https://localhost:8080/",
     "height": 267
    },
    "id": "5e028329",
    "outputId": "5379baa8-fad0-4f7b-b4d8-ad316ecf1d13"
   },
   "outputs": [],
   "source": [
    "trainer.train()"
   ]
  },
  {
   "cell_type": "code",
   "execution_count": null,
   "id": "19",
   "metadata": {
    "colab": {
     "base_uri": "https://localhost:8080/",
     "height": 211
    },
    "id": "LqGQexRQqTV_",
    "outputId": "7bca7b4d-fa95-41d1-ca4f-56f820d727c4"
   },
   "outputs": [],
   "source": [
    "trainer.evaluate()"
   ]
  },
  {
   "cell_type": "markdown",
   "id": "20",
   "metadata": {
    "id": "PpSA9i9uliDt"
   },
   "source": [
    "## Save Model"
   ]
  },
  {
   "cell_type": "code",
   "execution_count": null,
   "id": "21",
   "metadata": {
    "id": "M4nAjFkVlmE4"
   },
   "outputs": [],
   "source": [
    "trainer.save_model('sentimentPredictor')"
   ]
  },
  {
   "cell_type": "code",
   "execution_count": null,
   "id": "22",
   "metadata": {
    "colab": {
     "base_uri": "https://localhost:8080/"
    },
    "id": "QlWoEfolmr56",
    "outputId": "7b2692dc-aeee-4bf0-80f1-9c1a215eb713"
   },
   "outputs": [],
   "source": [
    "!zip -r sentimentPredictor.zip sentimentPredictor"
   ]
  },
  {
   "cell_type": "code",
   "execution_count": null,
   "id": "23",
   "metadata": {
    "colab": {
     "base_uri": "https://localhost:8080/",
     "height": 17
    },
    "id": "ZpC5dkLsm-Ob",
    "outputId": "e6c7074a-32cd-4f99-a268-54546e73d18a"
   },
   "outputs": [],
   "source": [
    "from google.colab import files\n",
    "files.download('sentimentPredictor.zip')"
   ]
  }
 ],
 "metadata": {
  "accelerator": "GPU",
  "colab": {
   "gpuType": "T4",
   "provenance": []
  },
  "kernelspec": {
   "display_name": "venv",
   "language": "python",
   "name": "python3"
  },
  "language_info": {
   "codemirror_mode": {
    "name": "ipython",
    "version": 3
   },
   "file_extension": ".py",
   "mimetype": "text/x-python",
   "name": "python",
   "nbconvert_exporter": "python",
   "pygments_lexer": "ipython3",
   "version": "3.13.5"
  }
 },
 "nbformat": 4,
 "nbformat_minor": 5
}
