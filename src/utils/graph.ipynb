{
 "cells": [
  {
   "cell_type": "code",
   "execution_count": 80,
   "id": "5898bf9d",
   "metadata": {},
   "outputs": [],
   "source": [
    "import sentimentScore\n",
    "import matplotlib.pyplot as plt\n",
    "import  seaborn as sns\n",
    "import numpy as np\n",
    "import pandas as pd\n",
    "import matplotlib.gridspec as gridspec\n",
    "from textwrap import wrap\n",
    "import plotly.graph_objects as go\n",
    "from plotly.subplots import make_subplots\n",
    "import urllib.parse"
   ]
  },
  {
   "cell_type": "code",
   "execution_count": 81,
   "id": "a77dfb39",
   "metadata": {},
   "outputs": [],
   "source": [
    "def video_id(value):\n",
    "    \"\"\"\n",
    "    Extract the YouTube video ID from various YouTube URL formats.\n",
    "\n",
    "    Examples:\n",
    "    - http://youtu.be/SA2iWivDJiE\n",
    "    - http://www.youtube.com/watch?v=_oPAwA_Udwc&feature=feedu\n",
    "    - http://www.youtube.com/embed/SA2iWivDJiE\n",
    "    - http://www.youtube.com/v/SA2iWivDJiE?version=3&hl=en_US\n",
    "    \"\"\"\n",
    "    query = urllib.parse.urlparse(value)\n",
    "    hostname = query.hostname\n",
    "    if not hostname:\n",
    "        return None\n",
    "\n",
    "    if hostname == 'youtu.be':\n",
    "        return query.path[1:]\n",
    "    if hostname in ('www.youtube.com', 'youtube.com', 'm.youtube.com'):\n",
    "        if query.path == '/watch':\n",
    "            p = urllib.parse.parse_qs(query.query)\n",
    "            return p.get('v', [None])[0]\n",
    "        if query.path.startswith('/embed/'):\n",
    "            return query.path.split('/')[2]\n",
    "        if query.path.startswith('/v/'):\n",
    "            return query.path.split('/')[2]\n",
    "    # fail\n",
    "    return None\n"
   ]
  },
  {
   "cell_type": "code",
   "execution_count": 83,
   "id": "c4bb6c07",
   "metadata": {},
   "outputs": [
    {
     "name": "stderr",
     "output_type": "stream",
     "text": [
      "Asking to truncate to max_length but no maximum length is provided and the model has no predefined maximum length. Default to no truncation.\n"
     ]
    }
   ],
   "source": [
    "df = sentimentScore.get_score(video_id('https://www.youtube.com/watch?v=_YRHU0acMkU'))"
   ]
  },
  {
   "cell_type": "code",
   "execution_count": 84,
   "id": "67bb207a",
   "metadata": {},
   "outputs": [
    {
     "data": {
      "application/vnd.plotly.v1+json": {
       "config": {
        "plotlyServerURL": "https://plot.ly"
       },
       "data": [
        {
         "cells": {
          "align": [
           "left",
           "left",
           "center"
          ],
          "fill": {
           "color": [
            [
             "#d4f0e7",
             "white",
             "#d4f0e7"
            ]
           ]
          },
          "font": {
           "color": "black",
           "size": 11
          },
          "values": [
           [
            "@nickrob6941",
            "@loopstationyt",
            "@Katherine-bt7sr"
           ],
           [
            "I love how everyone else looks like they showed up<br>to film and sat on the couch, while Behz and Harry<br>look like someone showed up at their house and<br>started to film 😭🤣😂🤣🤣😂",
            "Only the OGs will know that JME was an original<br>Sideman. Love seeing JME in Sidemen videos. He<br>brings a certain vibe to videos that make them<br>feel nostalgic 💜",
            "\"They've all touched a child.\" Josh's reaction is<br>so relatable 😂😂 9:47"
           ],
           [
            5861,
            3748,
            3552
           ]
          ]
         },
         "columnwidth": [
          0.2,
          0.65,
          0.15
         ],
         "domain": {
          "x": [
           0,
           0.29700000000000004
          ],
          "y": [
           0.736,
           1
          ]
         },
         "header": {
          "align": [
           "left",
           "left",
           "center"
          ],
          "fill": {
           "color": "#96ceb4"
          },
          "font": {
           "color": "white",
           "size": 12
          },
          "values": [
           "Author",
           "Comment",
           "Likes"
          ]
         },
         "type": "table"
        },
        {
         "cells": {
          "align": [
           "left",
           "left",
           "center"
          ],
          "fill": {
           "color": [
            [
             "#fff9d1",
             "white",
             "#fff9d1"
            ]
           ]
          },
          "font": {
           "color": "black",
           "size": 11
          },
          "values": [
           [
            "@yashwanthk.r4902",
            "@vishalaujla6380",
            "@azoozksa-op8rn"
           ],
           [
            "Is no one gonna talk about how in sync tobi and JME leaned forward at 16:48",
            "18:37 tobi and vikk posing just like two backbenchers in class😂",
            "4:19 when you haven't reached 10/10 friendship  with all of your friends"
           ],
           [
            1111,
            362,
            84
           ]
          ]
         },
         "columnwidth": [
          0.2,
          0.65,
          0.15
         ],
         "domain": {
          "x": [
           0.34700000000000003,
           0.653
          ],
          "y": [
           0.736,
           1
          ]
         },
         "header": {
          "align": [
           "left",
           "left",
           "center"
          ],
          "fill": {
           "color": "#ffeead"
          },
          "font": {
           "color": "white",
           "size": 12
          },
          "values": [
           "Author",
           "Comment",
           "Likes"
          ]
         },
         "type": "table"
        },
        {
         "direction": "clockwise",
         "domain": {
          "x": [
           0.34700000000000003,
           0.653
          ],
          "y": [
           0,
           0.616
          ]
         },
         "hole": 0.4,
         "hoverinfo": "label+percent+value",
         "labels": [
          "Negative",
          "Neutral",
          "Positive"
         ],
         "marker": {
          "colors": [
           "#ff6f69",
           "#ffeead",
           "#96ceb4"
          ],
          "line": {
           "color": "black",
           "width": 0.5
          }
         },
         "showlegend": false,
         "sort": false,
         "textfont": {
          "size": 14
         },
         "textinfo": "percent",
         "type": "pie",
         "values": {
          "bdata": "EBg8",
          "dtype": "i1"
         }
        },
        {
         "cells": {
          "align": [
           "left",
           "left",
           "center"
          ],
          "fill": {
           "color": [
            [
             "#f9d6d5",
             "white",
             "#f9d6d5"
            ]
           ]
          },
          "font": {
           "color": "black",
           "size": 11
          },
          "values": [
           [
            "@TheMoogway",
            "@unomenum",
            "@PriyaP_2000"
           ],
           [
            "Bro Harry doesn't help himself. He literally got<br>the drug one within seconds 😂",
            "tobi and vikk whispering 😂   and still coming up<br>with wrong answers😂😂",
            "Ethan's reaction at 16:29 killed me 🤣"
           ],
           [
            13058,
            610,
            246
           ]
          ]
         },
         "columnwidth": [
          0.2,
          0.65,
          0.15
         ],
         "domain": {
          "x": [
           0.7030000000000001,
           1
          ],
          "y": [
           0.736,
           1
          ]
         },
         "header": {
          "align": [
           "left",
           "left",
           "center"
          ],
          "fill": {
           "color": "#ff6f69"
          },
          "font": {
           "color": "white",
           "size": 12
          },
          "values": [
           "Author",
           "Comment",
           "Likes"
          ]
         },
         "type": "table"
        },
        {
         "marker": {
          "color": [
           "#ff6f69",
           "#ffeead",
           "#96ceb4"
          ]
         },
         "name": "Total Likes",
         "text": [
          "14,135",
          "1,868",
          "22,351"
         ],
         "textposition": "outside",
         "type": "bar",
         "x": [
          "Negative",
          "Neutral",
          "Positive"
         ],
         "xaxis": "x",
         "y": {
          "bdata": "NzdMB09X",
          "dtype": "i2"
         },
         "yaxis": "y"
        },
        {
         "marker": {
          "color": [
           "#ff6f69",
           "#ffeead",
           "#96ceb4"
          ]
         },
         "name": "Average Likes",
         "text": [
          "883.4",
          "77.8",
          "372.5"
         ],
         "textposition": "outside",
         "type": "bar",
         "x": [
          "Negative",
          "Neutral",
          "Positive"
         ],
         "xaxis": "x2",
         "y": {
          "bdata": "AAAAAICbi0BVVVVVVXVTQERERERESHdA",
          "dtype": "f8"
         },
         "yaxis": "y2"
        }
       ],
       "layout": {
        "annotations": [
         {
          "font": {
           "size": 16
          },
          "showarrow": false,
          "text": "Top 3 Positive Comments",
          "x": 0.14850000000000002,
          "xanchor": "center",
          "xref": "paper",
          "y": 1,
          "yanchor": "bottom",
          "yref": "paper"
         },
         {
          "font": {
           "size": 16
          },
          "showarrow": false,
          "text": "Top 3 Neutral Comments",
          "x": 0.5,
          "xanchor": "center",
          "xref": "paper",
          "y": 1,
          "yanchor": "bottom",
          "yref": "paper"
         },
         {
          "font": {
           "size": 16
          },
          "showarrow": false,
          "text": "Top 3 Negative Comments",
          "x": 0.8515,
          "xanchor": "center",
          "xref": "paper",
          "y": 1,
          "yanchor": "bottom",
          "yref": "paper"
         },
         {
          "font": {
           "size": 16
          },
          "showarrow": false,
          "text": "Total Likes per Sentiment",
          "x": 0.14850000000000002,
          "xanchor": "center",
          "xref": "paper",
          "y": 0.616,
          "yanchor": "bottom",
          "yref": "paper"
         },
         {
          "font": {
           "size": 16
          },
          "showarrow": false,
          "text": "Average Likes per Sentiment",
          "x": 0.8515,
          "xanchor": "center",
          "xref": "paper",
          "y": 0.616,
          "yanchor": "bottom",
          "yref": "paper"
         }
        ],
        "height": 850,
        "margin": {
         "b": 50,
         "t": 100
        },
        "paper_bgcolor": "rgba(250,250,250,1)",
        "plot_bgcolor": "white",
        "showlegend": false,
        "template": {
         "data": {
          "bar": [
           {
            "error_x": {
             "color": "#2a3f5f"
            },
            "error_y": {
             "color": "#2a3f5f"
            },
            "marker": {
             "line": {
              "color": "#E5ECF6",
              "width": 0.5
             },
             "pattern": {
              "fillmode": "overlay",
              "size": 10,
              "solidity": 0.2
             }
            },
            "type": "bar"
           }
          ],
          "barpolar": [
           {
            "marker": {
             "line": {
              "color": "#E5ECF6",
              "width": 0.5
             },
             "pattern": {
              "fillmode": "overlay",
              "size": 10,
              "solidity": 0.2
             }
            },
            "type": "barpolar"
           }
          ],
          "carpet": [
           {
            "aaxis": {
             "endlinecolor": "#2a3f5f",
             "gridcolor": "white",
             "linecolor": "white",
             "minorgridcolor": "white",
             "startlinecolor": "#2a3f5f"
            },
            "baxis": {
             "endlinecolor": "#2a3f5f",
             "gridcolor": "white",
             "linecolor": "white",
             "minorgridcolor": "white",
             "startlinecolor": "#2a3f5f"
            },
            "type": "carpet"
           }
          ],
          "choropleth": [
           {
            "colorbar": {
             "outlinewidth": 0,
             "ticks": ""
            },
            "type": "choropleth"
           }
          ],
          "contour": [
           {
            "colorbar": {
             "outlinewidth": 0,
             "ticks": ""
            },
            "colorscale": [
             [
              0,
              "#0d0887"
             ],
             [
              0.1111111111111111,
              "#46039f"
             ],
             [
              0.2222222222222222,
              "#7201a8"
             ],
             [
              0.3333333333333333,
              "#9c179e"
             ],
             [
              0.4444444444444444,
              "#bd3786"
             ],
             [
              0.5555555555555556,
              "#d8576b"
             ],
             [
              0.6666666666666666,
              "#ed7953"
             ],
             [
              0.7777777777777778,
              "#fb9f3a"
             ],
             [
              0.8888888888888888,
              "#fdca26"
             ],
             [
              1,
              "#f0f921"
             ]
            ],
            "type": "contour"
           }
          ],
          "contourcarpet": [
           {
            "colorbar": {
             "outlinewidth": 0,
             "ticks": ""
            },
            "type": "contourcarpet"
           }
          ],
          "heatmap": [
           {
            "colorbar": {
             "outlinewidth": 0,
             "ticks": ""
            },
            "colorscale": [
             [
              0,
              "#0d0887"
             ],
             [
              0.1111111111111111,
              "#46039f"
             ],
             [
              0.2222222222222222,
              "#7201a8"
             ],
             [
              0.3333333333333333,
              "#9c179e"
             ],
             [
              0.4444444444444444,
              "#bd3786"
             ],
             [
              0.5555555555555556,
              "#d8576b"
             ],
             [
              0.6666666666666666,
              "#ed7953"
             ],
             [
              0.7777777777777778,
              "#fb9f3a"
             ],
             [
              0.8888888888888888,
              "#fdca26"
             ],
             [
              1,
              "#f0f921"
             ]
            ],
            "type": "heatmap"
           }
          ],
          "histogram": [
           {
            "marker": {
             "pattern": {
              "fillmode": "overlay",
              "size": 10,
              "solidity": 0.2
             }
            },
            "type": "histogram"
           }
          ],
          "histogram2d": [
           {
            "colorbar": {
             "outlinewidth": 0,
             "ticks": ""
            },
            "colorscale": [
             [
              0,
              "#0d0887"
             ],
             [
              0.1111111111111111,
              "#46039f"
             ],
             [
              0.2222222222222222,
              "#7201a8"
             ],
             [
              0.3333333333333333,
              "#9c179e"
             ],
             [
              0.4444444444444444,
              "#bd3786"
             ],
             [
              0.5555555555555556,
              "#d8576b"
             ],
             [
              0.6666666666666666,
              "#ed7953"
             ],
             [
              0.7777777777777778,
              "#fb9f3a"
             ],
             [
              0.8888888888888888,
              "#fdca26"
             ],
             [
              1,
              "#f0f921"
             ]
            ],
            "type": "histogram2d"
           }
          ],
          "histogram2dcontour": [
           {
            "colorbar": {
             "outlinewidth": 0,
             "ticks": ""
            },
            "colorscale": [
             [
              0,
              "#0d0887"
             ],
             [
              0.1111111111111111,
              "#46039f"
             ],
             [
              0.2222222222222222,
              "#7201a8"
             ],
             [
              0.3333333333333333,
              "#9c179e"
             ],
             [
              0.4444444444444444,
              "#bd3786"
             ],
             [
              0.5555555555555556,
              "#d8576b"
             ],
             [
              0.6666666666666666,
              "#ed7953"
             ],
             [
              0.7777777777777778,
              "#fb9f3a"
             ],
             [
              0.8888888888888888,
              "#fdca26"
             ],
             [
              1,
              "#f0f921"
             ]
            ],
            "type": "histogram2dcontour"
           }
          ],
          "mesh3d": [
           {
            "colorbar": {
             "outlinewidth": 0,
             "ticks": ""
            },
            "type": "mesh3d"
           }
          ],
          "parcoords": [
           {
            "line": {
             "colorbar": {
              "outlinewidth": 0,
              "ticks": ""
             }
            },
            "type": "parcoords"
           }
          ],
          "pie": [
           {
            "automargin": true,
            "type": "pie"
           }
          ],
          "scatter": [
           {
            "fillpattern": {
             "fillmode": "overlay",
             "size": 10,
             "solidity": 0.2
            },
            "type": "scatter"
           }
          ],
          "scatter3d": [
           {
            "line": {
             "colorbar": {
              "outlinewidth": 0,
              "ticks": ""
             }
            },
            "marker": {
             "colorbar": {
              "outlinewidth": 0,
              "ticks": ""
             }
            },
            "type": "scatter3d"
           }
          ],
          "scattercarpet": [
           {
            "marker": {
             "colorbar": {
              "outlinewidth": 0,
              "ticks": ""
             }
            },
            "type": "scattercarpet"
           }
          ],
          "scattergeo": [
           {
            "marker": {
             "colorbar": {
              "outlinewidth": 0,
              "ticks": ""
             }
            },
            "type": "scattergeo"
           }
          ],
          "scattergl": [
           {
            "marker": {
             "colorbar": {
              "outlinewidth": 0,
              "ticks": ""
             }
            },
            "type": "scattergl"
           }
          ],
          "scattermap": [
           {
            "marker": {
             "colorbar": {
              "outlinewidth": 0,
              "ticks": ""
             }
            },
            "type": "scattermap"
           }
          ],
          "scattermapbox": [
           {
            "marker": {
             "colorbar": {
              "outlinewidth": 0,
              "ticks": ""
             }
            },
            "type": "scattermapbox"
           }
          ],
          "scatterpolar": [
           {
            "marker": {
             "colorbar": {
              "outlinewidth": 0,
              "ticks": ""
             }
            },
            "type": "scatterpolar"
           }
          ],
          "scatterpolargl": [
           {
            "marker": {
             "colorbar": {
              "outlinewidth": 0,
              "ticks": ""
             }
            },
            "type": "scatterpolargl"
           }
          ],
          "scatterternary": [
           {
            "marker": {
             "colorbar": {
              "outlinewidth": 0,
              "ticks": ""
             }
            },
            "type": "scatterternary"
           }
          ],
          "surface": [
           {
            "colorbar": {
             "outlinewidth": 0,
             "ticks": ""
            },
            "colorscale": [
             [
              0,
              "#0d0887"
             ],
             [
              0.1111111111111111,
              "#46039f"
             ],
             [
              0.2222222222222222,
              "#7201a8"
             ],
             [
              0.3333333333333333,
              "#9c179e"
             ],
             [
              0.4444444444444444,
              "#bd3786"
             ],
             [
              0.5555555555555556,
              "#d8576b"
             ],
             [
              0.6666666666666666,
              "#ed7953"
             ],
             [
              0.7777777777777778,
              "#fb9f3a"
             ],
             [
              0.8888888888888888,
              "#fdca26"
             ],
             [
              1,
              "#f0f921"
             ]
            ],
            "type": "surface"
           }
          ],
          "table": [
           {
            "cells": {
             "fill": {
              "color": "#EBF0F8"
             },
             "line": {
              "color": "white"
             }
            },
            "header": {
             "fill": {
              "color": "#C8D4E3"
             },
             "line": {
              "color": "white"
             }
            },
            "type": "table"
           }
          ]
         },
         "layout": {
          "annotationdefaults": {
           "arrowcolor": "#2a3f5f",
           "arrowhead": 0,
           "arrowwidth": 1
          },
          "autotypenumbers": "strict",
          "coloraxis": {
           "colorbar": {
            "outlinewidth": 0,
            "ticks": ""
           }
          },
          "colorscale": {
           "diverging": [
            [
             0,
             "#8e0152"
            ],
            [
             0.1,
             "#c51b7d"
            ],
            [
             0.2,
             "#de77ae"
            ],
            [
             0.3,
             "#f1b6da"
            ],
            [
             0.4,
             "#fde0ef"
            ],
            [
             0.5,
             "#f7f7f7"
            ],
            [
             0.6,
             "#e6f5d0"
            ],
            [
             0.7,
             "#b8e186"
            ],
            [
             0.8,
             "#7fbc41"
            ],
            [
             0.9,
             "#4d9221"
            ],
            [
             1,
             "#276419"
            ]
           ],
           "sequential": [
            [
             0,
             "#0d0887"
            ],
            [
             0.1111111111111111,
             "#46039f"
            ],
            [
             0.2222222222222222,
             "#7201a8"
            ],
            [
             0.3333333333333333,
             "#9c179e"
            ],
            [
             0.4444444444444444,
             "#bd3786"
            ],
            [
             0.5555555555555556,
             "#d8576b"
            ],
            [
             0.6666666666666666,
             "#ed7953"
            ],
            [
             0.7777777777777778,
             "#fb9f3a"
            ],
            [
             0.8888888888888888,
             "#fdca26"
            ],
            [
             1,
             "#f0f921"
            ]
           ],
           "sequentialminus": [
            [
             0,
             "#0d0887"
            ],
            [
             0.1111111111111111,
             "#46039f"
            ],
            [
             0.2222222222222222,
             "#7201a8"
            ],
            [
             0.3333333333333333,
             "#9c179e"
            ],
            [
             0.4444444444444444,
             "#bd3786"
            ],
            [
             0.5555555555555556,
             "#d8576b"
            ],
            [
             0.6666666666666666,
             "#ed7953"
            ],
            [
             0.7777777777777778,
             "#fb9f3a"
            ],
            [
             0.8888888888888888,
             "#fdca26"
            ],
            [
             1,
             "#f0f921"
            ]
           ]
          },
          "colorway": [
           "#636efa",
           "#EF553B",
           "#00cc96",
           "#ab63fa",
           "#FFA15A",
           "#19d3f3",
           "#FF6692",
           "#B6E880",
           "#FF97FF",
           "#FECB52"
          ],
          "font": {
           "color": "#2a3f5f"
          },
          "geo": {
           "bgcolor": "white",
           "lakecolor": "white",
           "landcolor": "#E5ECF6",
           "showlakes": true,
           "showland": true,
           "subunitcolor": "white"
          },
          "hoverlabel": {
           "align": "left"
          },
          "hovermode": "closest",
          "mapbox": {
           "style": "light"
          },
          "paper_bgcolor": "white",
          "plot_bgcolor": "#E5ECF6",
          "polar": {
           "angularaxis": {
            "gridcolor": "white",
            "linecolor": "white",
            "ticks": ""
           },
           "bgcolor": "#E5ECF6",
           "radialaxis": {
            "gridcolor": "white",
            "linecolor": "white",
            "ticks": ""
           }
          },
          "scene": {
           "xaxis": {
            "backgroundcolor": "#E5ECF6",
            "gridcolor": "white",
            "gridwidth": 2,
            "linecolor": "white",
            "showbackground": true,
            "ticks": "",
            "zerolinecolor": "white"
           },
           "yaxis": {
            "backgroundcolor": "#E5ECF6",
            "gridcolor": "white",
            "gridwidth": 2,
            "linecolor": "white",
            "showbackground": true,
            "ticks": "",
            "zerolinecolor": "white"
           },
           "zaxis": {
            "backgroundcolor": "#E5ECF6",
            "gridcolor": "white",
            "gridwidth": 2,
            "linecolor": "white",
            "showbackground": true,
            "ticks": "",
            "zerolinecolor": "white"
           }
          },
          "shapedefaults": {
           "line": {
            "color": "#2a3f5f"
           }
          },
          "ternary": {
           "aaxis": {
            "gridcolor": "white",
            "linecolor": "white",
            "ticks": ""
           },
           "baxis": {
            "gridcolor": "white",
            "linecolor": "white",
            "ticks": ""
           },
           "bgcolor": "#E5ECF6",
           "caxis": {
            "gridcolor": "white",
            "linecolor": "white",
            "ticks": ""
           }
          },
          "title": {
           "x": 0.05
          },
          "xaxis": {
           "automargin": true,
           "gridcolor": "white",
           "linecolor": "white",
           "ticks": "",
           "title": {
            "standoff": 15
           },
           "zerolinecolor": "white",
           "zerolinewidth": 2
          },
          "yaxis": {
           "automargin": true,
           "gridcolor": "white",
           "linecolor": "white",
           "ticks": "",
           "title": {
            "standoff": 15
           },
           "zerolinecolor": "white",
           "zerolinewidth": 2
          }
         }
        },
        "title": {
         "font": {
          "size": 24
         },
         "text": "YouTube Video Sentiment",
         "x": 0.5
        },
        "width": 1300,
        "xaxis": {
         "anchor": "y",
         "domain": [
          0,
          0.29700000000000004
         ]
        },
        "xaxis2": {
         "anchor": "y2",
         "domain": [
          0.7030000000000001,
          1
         ]
        },
        "yaxis": {
         "anchor": "x",
         "domain": [
          0,
          0.616
         ]
        },
        "yaxis2": {
         "anchor": "x2",
         "domain": [
          0,
          0.616
         ]
        }
       }
      }
     },
     "metadata": {},
     "output_type": "display_data"
    }
   ],
   "source": [
    "df = df.rename(columns={'Number of Likes': 'Likes'})\n",
    "# Pie chart data\n",
    "sentiment_counts = df['Predicted_class'].value_counts().sort_index()\n",
    "sentiment_labels = ['Negative', 'Neutral', 'Positive']\n",
    "colors = ['#ff6f69', '#ffeead', '#96ceb4']\n",
    "\n",
    "top_pos = df[df['Predicted_class'] == 2].nlargest(3, 'Likes')[['Author', 'Comment', 'Likes']]\n",
    "top_neg = df[df['Predicted_class'] == 0].nlargest(3, 'Likes')[['Author', 'Comment', 'Likes']]\n",
    "top_neu = df[df['Predicted_class'] == 1].nlargest(3, 'Likes')[['Author', 'Comment', 'Likes']]\n",
    "\n",
    "# Wrap comments\n",
    "def wrap_comments(comments, width=50):\n",
    "    return ['<br>'.join(wrap(str(c), width)) for c in comments]\n",
    "\n",
    "top_pos['Comment'] = wrap_comments(top_pos['Comment'])\n",
    "top_neg['Comment'] = wrap_comments(top_neg['Comment'])\n",
    "\n",
    "fig = make_subplots(\n",
    "    rows=2, cols=3,\n",
    "    specs=[[{\"type\": \"table\"}, {\"type\": \"table\"}, {\"type\": \"table\"}],  \n",
    "           [{\"type\": \"bar\"}, {\"type\": \"pie\"}, {\"type\": \"bar\"}]],\n",
    "    column_widths=[0.33, 0.34, 0.33],  \n",
    "    row_heights=[0.3, 0.7],\n",
    "    vertical_spacing=0.12,\n",
    "    horizontal_spacing=0.05,\n",
    "    subplot_titles=(\n",
    "        \"Top 3 Positive Comments\",\n",
    "        \"Top 3 Neutral Comments\",\n",
    "        \"Top 3 Negative Comments\",\n",
    "        \"Total Likes per Sentiment\",\n",
    "        \"\",\n",
    "        \"Average Likes per Sentiment\"\n",
    "    )\n",
    ")\n",
    "\n",
    "# Positive Comments Table\n",
    "fig.add_trace(go.Table(\n",
    "    columnwidth=[0.2, 0.65, 0.15], \n",
    "    header=dict(\n",
    "        values=[\"Author\", \"Comment\", \"Likes\"],\n",
    "        fill_color='#96ceb4',\n",
    "        font=dict(color='white', size=12),\n",
    "        align=['left', 'left', 'center'],\n",
    "    ),\n",
    "    cells=dict(\n",
    "        values=[top_pos[col] for col in top_pos.columns],\n",
    "        fill_color=[['#d4f0e7', 'white', '#d4f0e7']],\n",
    "        align=['left', 'left', 'center'],\n",
    "        font=dict(color='black', size=11),\n",
    "    )\n",
    "), row=1, col=1)\n",
    "\n",
    "# Neutral Comments Table\n",
    "fig.add_trace(go.Table(\n",
    "    columnwidth=[0.2, 0.65, 0.15], \n",
    "    header=dict(\n",
    "        values=[\"Author\", \"Comment\", \"Likes\"],\n",
    "        fill_color='#ffeead',\n",
    "        font=dict(color='white', size=12),\n",
    "        align=['left', 'left', 'center'],\n",
    "    ),\n",
    "    cells=dict(\n",
    "        values=[top_neu[col] for col in top_neu.columns],\n",
    "        fill_color=[['#fff9d1', 'white', '#fff9d1']],\n",
    "        align=['left', 'left', 'center'],\n",
    "        font=dict(color='black', size=11),\n",
    "    )\n",
    "), row=1, col=2)\n",
    "\n",
    "fig.add_trace(go.Pie(\n",
    "    labels=sentiment_labels,\n",
    "    values=sentiment_counts,\n",
    "    marker_colors=colors,\n",
    "    hole=0.4,\n",
    "    hoverinfo='label+percent+value',\n",
    "    textinfo='percent',\n",
    "    textfont_size=14,\n",
    "    sort=False,\n",
    "    direction='clockwise',\n",
    "    showlegend=False,\n",
    "    marker=dict(line=dict(color='black', width=0.5)),\n",
    "    domain=dict(x=[0.34, 0.66], y=[0.35, 0.85])\n",
    "), row=2, col=2)\n",
    "\n",
    "# Negative Comments Table\n",
    "fig.add_trace(go.Table(\n",
    "    columnwidth=[0.2, 0.65, 0.15],\n",
    "    header=dict(\n",
    "        values=[\"Author\", \"Comment\", \"Likes\"],\n",
    "        fill_color='#ff6f69',\n",
    "        font=dict(color='white', size=12),\n",
    "        align=['left', 'left', 'center'],\n",
    "    ),\n",
    "    cells=dict(\n",
    "        values=[top_neg[col] for col in top_neg.columns],\n",
    "        fill_color=[['#f9d6d5', 'white', '#f9d6d5']],\n",
    "        align=['left', 'left', 'center'],\n",
    "        font=dict(color='black', size=11),\n",
    "    )\n",
    "), row=1, col=3)\n",
    "\n",
    "# Sum of likes per class\n",
    "likes_sum = df.groupby('Predicted_class')['Likes'].sum().reindex([0,1,2])\n",
    "likes_sum = likes_sum.fillna(0)\n",
    "# Total Likes Bar Chart\n",
    "fig.add_trace(go.Bar(\n",
    "    x=sentiment_labels,\n",
    "    y=likes_sum,\n",
    "    marker_color=colors,\n",
    "    text=[f\"{int(x):,}\" for x in likes_sum],\n",
    "    textposition='outside',\n",
    "    name='Total Likes'\n",
    "), row=2, col=1)\n",
    "\n",
    "# Average likes per class\n",
    "likes_avg = df.groupby('Predicted_class')['Likes'].mean().reindex([0,1,2]).fillna(0)\n",
    "# Average Likes Bar Chart\n",
    "fig.add_trace(go.Bar(\n",
    "    x=sentiment_labels,\n",
    "    y=likes_avg,\n",
    "    marker_color=colors,\n",
    "    text=[f\"{x:.1f}\" for x in likes_avg],\n",
    "    textposition='outside',\n",
    "    name='Average Likes'\n",
    "), row=2, col=3)\n",
    "\n",
    "# Final Layout\n",
    "fig.update_layout(\n",
    "    height=850,\n",
    "    width=1300,\n",
    "    title_text=\"YouTube Video Sentiment\",\n",
    "    title_x=0.5,\n",
    "    title_font_size=24,\n",
    "    showlegend=False,\n",
    "    margin=dict(t=100, b=50),\n",
    "    plot_bgcolor='white',\n",
    "    paper_bgcolor='rgba(250,250,250,1)'\n",
    ")\n",
    "\n",
    "fig.show()"
   ]
  }
 ],
 "metadata": {
  "kernelspec": {
   "display_name": "venv",
   "language": "python",
   "name": "python3"
  },
  "language_info": {
   "codemirror_mode": {
    "name": "ipython",
    "version": 3
   },
   "file_extension": ".py",
   "mimetype": "text/x-python",
   "name": "python",
   "nbconvert_exporter": "python",
   "pygments_lexer": "ipython3",
   "version": "3.13.5"
  }
 },
 "nbformat": 4,
 "nbformat_minor": 5
}
